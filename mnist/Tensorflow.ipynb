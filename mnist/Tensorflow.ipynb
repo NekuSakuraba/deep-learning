{
 "cells": [
  {
   "cell_type": "code",
   "execution_count": 1,
   "metadata": {
    "scrolled": true
   },
   "outputs": [
    {
     "name": "stderr",
     "output_type": "stream",
     "text": [
      "/usr/lib/python3.6/importlib/_bootstrap.py:205: RuntimeWarning: compiletime version 3.5 of module 'tensorflow.python.framework.fast_tensor_util' does not match runtime version 3.6\n",
      "  return f(*args, **kwds)\n"
     ]
    }
   ],
   "source": [
    "import tensorflow as tf"
   ]
  },
  {
   "cell_type": "code",
   "execution_count": 66,
   "metadata": {},
   "outputs": [],
   "source": [
    "import struct\n",
    "import numpy as np\n",
    "import matplotlib.pyplot as plt\n",
    "from sklearn.model_selection import train_test_split\n",
    "from sklearn.preprocessing import LabelBinarizer"
   ]
  },
  {
   "cell_type": "code",
   "execution_count": 54,
   "metadata": {},
   "outputs": [],
   "source": [
    "def get_weights(n_features, n_labels):\n",
    "    return tf.Variable(tf.truncated_normal((n_features, n_labels)))\n",
    "\n",
    "def get_biases(n_labels):\n",
    "    return tf.Variable(tf.zeros(n_labels))\n",
    "\n",
    "def linear(X, w, b):\n",
    "    return tf.add(tf.matmul(X, w), b)"
   ]
  },
  {
   "cell_type": "code",
   "execution_count": 4,
   "metadata": {},
   "outputs": [],
   "source": [
    "with open('train-labels-idx1-ubyte', 'rb') as f:\n",
    "    magic, num = struct.unpack(\">II\", f.read(8))\n",
    "    lbl = np.fromfile(f, dtype=np.int8)\n",
    "\n",
    "with open('train-images-idx3-ubyte', 'rb') as f:\n",
    "    magic, num, rows, cols = struct.unpack(\">IIII\", f.read(16))\n",
    "    img = np.fromfile(f, dtype=np.uint8)\n",
    "    img = img.reshape(len(lbl), rows, cols)"
   ]
  },
  {
   "cell_type": "code",
   "execution_count": 5,
   "metadata": {},
   "outputs": [],
   "source": [
    "get_img = lambda idx: (lbl[idx], img[idx])"
   ]
  },
  {
   "cell_type": "code",
   "execution_count": 6,
   "metadata": {},
   "outputs": [],
   "source": [
    "def get():\n",
    "    for i in range(len(lbl)):\n",
    "        yield get_img(i)"
   ]
  },
  {
   "cell_type": "code",
   "execution_count": 7,
   "metadata": {},
   "outputs": [],
   "source": [
    "def show(image):\n",
    "    fig = plt.figure()\n",
    "    ax = fig.add_subplot(111)\n",
    "    ax.imshow(image.reshape(28, -1), cmap=plt.cm.Greys)\n",
    "    plt.show()"
   ]
  },
  {
   "cell_type": "code",
   "execution_count": 67,
   "metadata": {},
   "outputs": [],
   "source": [
    "X = []\n",
    "y = []\n",
    "\n",
    "for _ in get():\n",
    "    if _[0] not in [1, 2, 3]:\n",
    "        continue\n",
    "    X.append(_[1].reshape(1, -1))\n",
    "    y.append(_[0])\n",
    "X = np.array(X).reshape(-1, 784)\n",
    "y = np.array(y).reshape(-1, 1)"
   ]
  },
  {
   "cell_type": "code",
   "execution_count": 70,
   "metadata": {},
   "outputs": [],
   "source": [
    "one_hot = LabelBinarizer()\n",
    "y = one_hot.fit_transform(y)"
   ]
  },
  {
   "cell_type": "code",
   "execution_count": 71,
   "metadata": {},
   "outputs": [
    {
     "name": "stdout",
     "output_type": "stream",
     "text": [
      "X: (18831, 784)\n",
      "y: (18831, 3)\n"
     ]
    }
   ],
   "source": [
    "print(f'X: {X.shape}')\n",
    "print(f'y: {y.shape}')"
   ]
  },
  {
   "cell_type": "code",
   "execution_count": 72,
   "metadata": {},
   "outputs": [
    {
     "data": {
      "image/png": "[encoded data removed]",
      "text/plain": [
       "<matplotlib.figure.Figure at 0x7fdd58f73eb8>"
      ]
     },
     "metadata": {},
     "output_type": "display_data"
    }
   ],
   "source": [
    "show(X[15])"
   ]
  },
  {
   "cell_type": "code",
   "execution_count": 28,
   "metadata": {},
   "outputs": [],
   "source": [
    "X = (X - 128) / 128"
   ]
  },
  {
   "cell_type": "code",
   "execution_count": 115,
   "metadata": {},
   "outputs": [
    {
     "name": "stdout",
     "output_type": "stream",
     "text": [
      "train: (10592, 784)\n",
      "y train: (10592, 3)\n"
     ]
    }
   ],
   "source": [
    "X_train, X_test,  y_train, y_test = train_test_split(X, y)\n",
    "X_train, X_valid, y_train, y_valid = train_test_split(X_train, y_train)\n",
    "\n",
    "print(f'train: {X_train.shape}')\n",
    "print(f'y train: {y_train.shape}')"
   ]
  },
  {
   "cell_type": "code",
   "execution_count": 75,
   "metadata": {
    "scrolled": true
   },
   "outputs": [
    {
     "name": "stdout",
     "output_type": "stream",
     "text": [
      "Loss: nan\n"
     ]
    }
   ],
   "source": [
    "with tf.Session() as sess:\n",
    "    # Initialize session variables\n",
    "    sess.run(tf.global_variables_initializer())\n",
    "    \n",
    "    # Softmax\n",
    "    prediction = tf.nn.softmax(logits)\n",
    "    \n",
    "    # Cross entropy\n",
    "    cross_entropy = -tf.reduce_sum(labels * tf.log(prediction), reduction_indices=1)\n",
    "    \n",
    "    # Training loss\n",
    "    loss = tf.reduce_sum(cross_entropy)\n",
    "    \n",
    "    learning_rate = .01\n",
    "    \n",
    "    optimizer = tf.train.GradientDescentOptimizer(learning_rate).minimize(loss)\n",
    "    \n",
    "    _, l = sess.run([optimizer, loss], feed_dict={features: X_train, labels: y_train})\n",
    "\n",
    "print(f'Loss: {l}')"
   ]
  },
  {
   "cell_type": "code",
   "execution_count": 76,
   "metadata": {},
   "outputs": [],
   "source": [
    "eta = .01\n",
    "\n",
    "n_input = 784\n",
    "n_class = 3\n",
    "\n",
    "features = tf.placeholder(tf.float32, [None, n_input], name=\"features\")\n",
    "labels   = tf.placeholder(tf.float32, [None, n_class], name='labels')\n",
    "\n",
    "W = get_weights(n_input, n_class)\n",
    "b = get_biases(n_class)\n",
    "\n",
    "logits = linear(features, W, b)"
   ]
  },
  {
   "cell_type": "code",
   "execution_count": 116,
   "metadata": {},
   "outputs": [],
   "source": [
    "def print_epoch_stats(epoch_i, sess, last_features, last_labels):\n",
    "    \"\"\"\n",
    "    Print cost and validation accuracy of an epoch\n",
    "    \"\"\"\n",
    "    current_cost = sess.run(\n",
    "        cost,\n",
    "        feed_dict={features: last_features, labels: last_labels})\n",
    "    valid_accuracy = sess.run(\n",
    "        accuracy,\n",
    "        feed_dict={features: X_valid, labels: y_valid})\n",
    "    print('Epoch: {:<4} - Cost: {:<8.3} Valid Accuracy: {:<5.3}'.format(\n",
    "        epoch_i,\n",
    "        current_cost,\n",
    "        valid_accuracy))"
   ]
  },
  {
   "cell_type": "code",
   "execution_count": 141,
   "metadata": {
    "scrolled": true
   },
   "outputs": [
    {
     "name": "stdout",
     "output_type": "stream",
     "text": [
      "Epoch: 0    - Cost: 4.44e+02 Valid Accuracy: 0.951\n",
      "Epoch: 1    - Cost: 9.05e+02 Valid Accuracy: 0.96 \n",
      "Epoch: 2    - Cost: 3.27e+02 Valid Accuracy: 0.967\n",
      "Epoch: 3    - Cost: 2.69e+02 Valid Accuracy: 0.962\n",
      "Epoch: 4    - Cost: 2.23e+02 Valid Accuracy: 0.964\n",
      "Epoch: 5    - Cost: 2.69e+02 Valid Accuracy: 0.96 \n",
      "Epoch: 6    - Cost: 2.88e+02 Valid Accuracy: 0.956\n",
      "Epoch: 7    - Cost: 1.87e+02 Valid Accuracy: 0.962\n",
      "Epoch: 8    - Cost: 1.99e+02 Valid Accuracy: 0.956\n",
      "Epoch: 9    - Cost: 3.04e+02 Valid Accuracy: 0.964\n",
      "Epoch: 10   - Cost: 4.28e+02 Valid Accuracy: 0.94 \n",
      "Epoch: 11   - Cost: 1.92e+02 Valid Accuracy: 0.963\n",
      "Epoch: 12   - Cost: 2.09e+02 Valid Accuracy: 0.965\n",
      "Epoch: 13   - Cost: 1.65e+02 Valid Accuracy: 0.966\n",
      "Epoch: 14   - Cost: 2.28e+02 Valid Accuracy: 0.965\n",
      "Epoch: 15   - Cost: 2.04e+02 Valid Accuracy: 0.963\n",
      "Epoch: 16   - Cost: 2.18e+02 Valid Accuracy: 0.953\n",
      "Epoch: 17   - Cost: 3.06e+02 Valid Accuracy: 0.965\n",
      "Epoch: 18   - Cost: 2.32e+02 Valid Accuracy: 0.965\n",
      "Epoch: 19   - Cost: 1.82e+02 Valid Accuracy: 0.958\n",
      "Epoch: 20   - Cost: 1.47e+02 Valid Accuracy: 0.965\n",
      "Epoch: 21   - Cost: 1.82e+02 Valid Accuracy: 0.965\n",
      "Epoch: 22   - Cost: 2.46e+02 Valid Accuracy: 0.957\n",
      "Epoch: 23   - Cost: 1.64e+02 Valid Accuracy: 0.961\n",
      "Epoch: 24   - Cost: 1.72e+02 Valid Accuracy: 0.957\n",
      "Epoch: 25   - Cost: 1.45e+02 Valid Accuracy: 0.965\n",
      "Epoch: 26   - Cost: 1.22e+02 Valid Accuracy: 0.962\n",
      "Epoch: 27   - Cost: 1.57e+02 Valid Accuracy: 0.959\n",
      "Epoch: 28   - Cost: 1.27e+02 Valid Accuracy: 0.962\n",
      "Epoch: 29   - Cost: 3e+02    Valid Accuracy: 0.965\n",
      "Epoch: 30   - Cost: 1.98e+02 Valid Accuracy: 0.959\n",
      "Epoch: 31   - Cost: 1.62e+02 Valid Accuracy: 0.96 \n",
      "Epoch: 32   - Cost: 1.42e+02 Valid Accuracy: 0.956\n",
      "Epoch: 33   - Cost: 1.27e+02 Valid Accuracy: 0.965\n",
      "Epoch: 34   - Cost: 1.39e+02 Valid Accuracy: 0.959\n",
      "Epoch: 35   - Cost: 1.5e+02  Valid Accuracy: 0.963\n",
      "Epoch: 36   - Cost: 2.48e+02 Valid Accuracy: 0.963\n",
      "Epoch: 37   - Cost: 1.57e+02 Valid Accuracy: 0.962\n",
      "Epoch: 38   - Cost: 2.51e+02 Valid Accuracy: 0.963\n",
      "Epoch: 39   - Cost: 1.75e+02 Valid Accuracy: 0.966\n",
      "Epoch: 40   - Cost: 1.53e+02 Valid Accuracy: 0.964\n",
      "Epoch: 41   - Cost: 1.21e+02 Valid Accuracy: 0.966\n",
      "Epoch: 42   - Cost: 1.2e+02  Valid Accuracy: 0.96 \n",
      "Epoch: 43   - Cost: 1.1e+02  Valid Accuracy: 0.962\n",
      "Epoch: 44   - Cost: 1.3e+02  Valid Accuracy: 0.957\n",
      "Epoch: 45   - Cost: 1.7e+02  Valid Accuracy: 0.963\n",
      "Epoch: 46   - Cost: 1.42e+02 Valid Accuracy: 0.956\n",
      "Epoch: 47   - Cost: 1.16e+02 Valid Accuracy: 0.963\n",
      "Epoch: 48   - Cost: 1.36e+02 Valid Accuracy: 0.958\n",
      "Epoch: 49   - Cost: 1.54e+02 Valid Accuracy: 0.956\n",
      "Epoch: 50   - Cost: 1.28e+02 Valid Accuracy: 0.956\n",
      "Epoch: 51   - Cost: 1.22e+02 Valid Accuracy: 0.963\n",
      "Epoch: 52   - Cost: 1.05e+02 Valid Accuracy: 0.961\n",
      "Epoch: 53   - Cost: 1.28e+02 Valid Accuracy: 0.953\n",
      "Epoch: 54   - Cost: 1.61e+02 Valid Accuracy: 0.965\n",
      "Epoch: 55   - Cost: 1.29e+02 Valid Accuracy: 0.963\n",
      "Epoch: 56   - Cost: 1.05e+02 Valid Accuracy: 0.963\n",
      "Epoch: 57   - Cost: 1.42e+02 Valid Accuracy: 0.959\n",
      "Epoch: 58   - Cost: 1.73e+02 Valid Accuracy: 0.95 \n",
      "Epoch: 59   - Cost: 1.07e+02 Valid Accuracy: 0.961\n",
      "Epoch: 60   - Cost: 1.12e+02 Valid Accuracy: 0.958\n",
      "Epoch: 61   - Cost: 1.12e+02 Valid Accuracy: 0.964\n",
      "Epoch: 62   - Cost: 1.06e+02 Valid Accuracy: 0.961\n",
      "Epoch: 63   - Cost: 99.3     Valid Accuracy: 0.961\n",
      "Epoch: 64   - Cost: 2.03e+02 Valid Accuracy: 0.946\n",
      "Epoch: 65   - Cost: 92.1     Valid Accuracy: 0.963\n",
      "Epoch: 66   - Cost: 90.3     Valid Accuracy: 0.961\n",
      "Epoch: 67   - Cost: 1.79e+02 Valid Accuracy: 0.961\n",
      "Epoch: 68   - Cost: 1.53e+02 Valid Accuracy: 0.949\n",
      "Epoch: 69   - Cost: 1.19e+02 Valid Accuracy: 0.963\n",
      "Epoch: 70   - Cost: 1.09e+02 Valid Accuracy: 0.959\n",
      "Epoch: 71   - Cost: 93.7     Valid Accuracy: 0.961\n",
      "Epoch: 72   - Cost: 1.11e+02 Valid Accuracy: 0.959\n",
      "Epoch: 73   - Cost: 3.27e+02 Valid Accuracy: 0.959\n",
      "Epoch: 74   - Cost: 1.69e+02 Valid Accuracy: 0.958\n",
      "Epoch: 75   - Cost: 1.28e+02 Valid Accuracy: 0.96 \n",
      "Epoch: 76   - Cost: 1.18e+02 Valid Accuracy: 0.961\n",
      "Epoch: 77   - Cost: 1.25e+02 Valid Accuracy: 0.964\n",
      "Epoch: 78   - Cost: 96.5     Valid Accuracy: 0.959\n",
      "Epoch: 79   - Cost: 1.25e+02 Valid Accuracy: 0.954\n",
      "Epoch: 80   - Cost: 2.01e+02 Valid Accuracy: 0.964\n",
      "Epoch: 81   - Cost: 1.09e+02 Valid Accuracy: 0.958\n",
      "Epoch: 82   - Cost: 1.04e+02 Valid Accuracy: 0.963\n",
      "Epoch: 83   - Cost: 88.5     Valid Accuracy: 0.961\n",
      "Epoch: 84   - Cost: 1.24e+02 Valid Accuracy: 0.951\n",
      "Epoch: 85   - Cost: 89.4     Valid Accuracy: 0.96 \n",
      "Epoch: 86   - Cost: 91.9     Valid Accuracy: 0.956\n",
      "Epoch: 87   - Cost: 1.1e+02  Valid Accuracy: 0.962\n",
      "Epoch: 88   - Cost: 91.7     Valid Accuracy: 0.959\n",
      "Epoch: 89   - Cost: 1.28e+02 Valid Accuracy: 0.962\n",
      "Epoch: 90   - Cost: 1.55e+02 Valid Accuracy: 0.963\n",
      "Epoch: 91   - Cost: 1e+02    Valid Accuracy: 0.96 \n",
      "Epoch: 92   - Cost: 99.0     Valid Accuracy: 0.963\n",
      "Epoch: 93   - Cost: 3.86e+02 Valid Accuracy: 0.963\n",
      "Epoch: 94   - Cost: 1.87e+02 Valid Accuracy: 0.965\n",
      "Epoch: 95   - Cost: 1.54e+02 Valid Accuracy: 0.96 \n",
      "Epoch: 96   - Cost: 1.18e+02 Valid Accuracy: 0.958\n",
      "Epoch: 97   - Cost: 1.33e+02 Valid Accuracy: 0.959\n",
      "Epoch: 98   - Cost: 88.7     Valid Accuracy: 0.959\n",
      "Epoch: 99   - Cost: 1.17e+02 Valid Accuracy: 0.964\n",
      "Test Accuracy: 0.963466465473175\n"
     ]
    }
   ],
   "source": [
    "learning_rate = tf.placeholder(tf.float32)\n",
    "cost = tf.reduce_mean(tf.nn.softmax_cross_entropy_with_logits(logits=logits, labels=labels))\n",
    "optimizer = tf.train.GradientDescentOptimizer(learning_rate=learning_rate).minimize(cost)\n",
    "\n",
    "# Calculate accuracy\n",
    "correct_prediction = tf.equal(tf.argmax(logits, 1), tf.argmax(labels, 1))\n",
    "accuracy = tf.reduce_mean(tf.cast(correct_prediction, tf.float32))\n",
    "\n",
    "epochs = 100\n",
    "batch_size = 128\n",
    "\n",
    "with tf.Session() as sess:\n",
    "    # Initialize session variables\n",
    "    sess.run(tf.global_variables_initializer())\n",
    "    \n",
    "    for _ in range(epochs):\n",
    "        n_samples = X_train.shape[0]\n",
    "        n = n_samples // 128\n",
    "        \n",
    "        for __ in range(n):\n",
    "            idx = np.random.choice(range(n_samples), batch_size)\n",
    "            X_batch = X_train[idx]\n",
    "            y_batch = y_train[idx]\n",
    "            \n",
    "            sess.run(optimizer, feed_dict={features: X_batch, labels: y_batch, learning_rate: .1})\n",
    "\n",
    "        # Print cost and validation accuracy of an epoch\n",
    "        print_epoch_stats(_, sess, X_train, y_train)\n",
    "        \n",
    "    # Calculate accuracy for test dataset\n",
    "    test_accuracy = sess.run(\n",
    "        accuracy,\n",
    "        feed_dict={features: X_test, labels: y_test})\n",
    "\n",
    "print('Test Accuracy: {}'.format(test_accuracy))"
   ]
  },
  {
   "cell_type": "code",
   "execution_count": 135,
   "metadata": {},
   "outputs": [
    {
     "data": {
      "text/plain": [
       "array([[0, 0, 0, ..., 0, 0, 0],\n",
       "       [0, 0, 0, ..., 0, 0, 0]], dtype=uint8)"
      ]
     },
     "execution_count": 135,
     "metadata": {},
     "output_type": "execute_result"
    }
   ],
   "source": [
    "X_train[[0,1]]"
   ]
  },
  {
   "cell_type": "code",
   "execution_count": 88,
   "metadata": {},
   "outputs": [
    {
     "name": "stdout",
     "output_type": "stream",
     "text": [
      "[ 0.45659032  0.3382504   0.20515925]\n"
     ]
    }
   ],
   "source": [
    "with tf.Session() as sess:\n",
    "    output = sess.run(tf.nn.softmax([1.2, .9, .4]))\n",
    "    \n",
    "    print(output)"
   ]
  },
  {
   "cell_type": "code",
   "execution_count": 23,
   "metadata": {},
   "outputs": [
    {
     "name": "stdout",
     "output_type": "stream",
     "text": [
      "Result: 2.3025851249694824\n"
     ]
    }
   ],
   "source": [
    "y_true = tf.placeholder(tf.float32)\n",
    "y_pred = tf.placeholder(tf.float32)\n",
    "cross_entropy = -tf.reduce_sum(y_true * tf.log(y_pred))\n",
    "\n",
    "with tf.Session() as sess:\n",
    "    output = sess.run(cross_entropy, feed_dict={y_true:[0,0,0,1,0], y_pred:[0.27, 0.11, 0.33, 0.10, 0.19]})\n",
    "    print(f'Result: {output}')"
   ]
  },
  {
   "cell_type": "code",
   "execution_count": 27,
   "metadata": {},
   "outputs": [
    {
     "data": {
      "text/plain": [
       "1.0"
      ]
     },
     "execution_count": 27,
     "metadata": {},
     "output_type": "execute_result"
    }
   ],
   "source": [
    "(256 - 128) / 128"
   ]
  },
  {
   "cell_type": "code",
   "execution_count": null,
   "metadata": {},
   "outputs": [],
   "source": []
  }
 ],
 "metadata": {
  "kernelspec": {
   "display_name": "Python 3",
   "language": "python",
   "name": "python3"
  },
  "language_info": {
   "codemirror_mode": {
    "name": "ipython",
    "version": 3
   },
   "file_extension": ".py",
   "mimetype": "text/x-python",
   "name": "python",
   "nbconvert_exporter": "python",
   "pygments_lexer": "ipython3",
   "version": "3.6.1"
  }
 },
 "nbformat": 4,
 "nbformat_minor": 2
}
