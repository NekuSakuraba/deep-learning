{
 "cells": [
  {
   "cell_type": "markdown",
   "metadata": {
    "collapsed": true
   },
   "source": [
    "# Language Translation\n",
    "In this project, you’re going to take a peek into the realm of neural network machine translation.  You’ll be training a sequence to sequence model on a dataset of English and French sentences that can translate new sentences from English to French.\n",
    "## Get the Data\n",
    "Since translating the whole language of English to French will take lots of time to train, we have provided you with a small portion of the English corpus."
   ]
  },
  {
   "cell_type": "code",
   "execution_count": 2,
   "metadata": {},
   "outputs": [],
   "source": [
    "\"\"\"\n",
    "DON'T MODIFY ANYTHING IN THIS CELL\n",
    "\"\"\"\n",
    "import helper\n",
    "import problem_unittests as tests\n",
    "\n",
    "source_path = 'data/small_vocab_en'\n",
    "target_path = 'data/small_vocab_fr'\n",
    "source_text = helper.load_data(source_path)\n",
    "target_text = helper.load_data(target_path)"
   ]
  },
  {
   "cell_type": "markdown",
   "metadata": {},
   "source": [
    "## Explore the Data\n",
    "Play around with view_sentence_range to view different parts of the data."
   ]
  },
  {
   "cell_type": "code",
   "execution_count": 3,
   "metadata": {
    "scrolled": false
   },
   "outputs": [
    {
     "name": "stdout",
     "output_type": "stream",
     "text": [
      "Dataset Stats\n",
      "Roughly the number of unique words: 227\n",
      "Number of sentences: 137861\n",
      "Average number of words in a sentence: 13.225277634719028\n",
      "\n",
      "English sentences 0 to 10:\n",
      "new jersey is sometimes quiet during autumn , and it is snowy in april .\n",
      "the united states is usually chilly during july , and it is usually freezing in november .\n",
      "california is usually quiet during march , and it is usually hot in june .\n",
      "the united states is sometimes mild during june , and it is cold in september .\n",
      "your least liked fruit is the grape , but my least liked is the apple .\n",
      "his favorite fruit is the orange , but my favorite is the grape .\n",
      "paris is relaxing during december , but it is usually chilly in july .\n",
      "new jersey is busy during spring , and it is never hot in march .\n",
      "our least liked fruit is the lemon , but my least liked is the grape .\n",
      "the united states is sometimes busy during january , and it is sometimes warm in november .\n",
      "\n",
      "French sentences 0 to 10:\n",
      "new jersey est parfois calme pendant l' automne , et il est neigeux en avril .\n",
      "les états-unis est généralement froid en juillet , et il gèle habituellement en novembre .\n",
      "california est généralement calme en mars , et il est généralement chaud en juin .\n",
      "les états-unis est parfois légère en juin , et il fait froid en septembre .\n",
      "votre moins aimé fruit est le raisin , mais mon moins aimé est la pomme .\n",
      "son fruit préféré est l'orange , mais mon préféré est le raisin .\n",
      "paris est relaxant en décembre , mais il est généralement froid en juillet .\n",
      "new jersey est occupé au printemps , et il est jamais chaude en mars .\n",
      "notre fruit est moins aimé le citron , mais mon moins aimé est le raisin .\n",
      "les états-unis est parfois occupé en janvier , et il est parfois chaud en novembre .\n"
     ]
    }
   ],
   "source": [
    "view_sentence_range = (0, 10)\n",
    "\n",
    "\"\"\"\n",
    "DON'T MODIFY ANYTHING IN THIS CELL\n",
    "\"\"\"\n",
    "import numpy as np\n",
    "\n",
    "print('Dataset Stats')\n",
    "print('Roughly the number of unique words: {}'.format(len({word: None for word in source_text.split()})))\n",
    "\n",
    "sentences = source_text.split('\\n')\n",
    "word_counts = [len(sentence.split()) for sentence in sentences]\n",
    "print('Number of sentences: {}'.format(len(sentences)))\n",
    "print('Average number of words in a sentence: {}'.format(np.average(word_counts)))\n",
    "\n",
    "print()\n",
    "print('English sentences {} to {}:'.format(*view_sentence_range))\n",
    "print('\\n'.join(source_text.split('\\n')[view_sentence_range[0]:view_sentence_range[1]]))\n",
    "print()\n",
    "print('French sentences {} to {}:'.format(*view_sentence_range))\n",
    "print('\\n'.join(target_text.split('\\n')[view_sentence_range[0]:view_sentence_range[1]]))"
   ]
  },
  {
   "cell_type": "code",
   "execution_count": 4,
   "metadata": {},
   "outputs": [
    {
     "name": "stdout",
     "output_type": "stream",
     "text": [
      "his favorite fruit is the orange , but my favorite is the grape .\n",
      "son fruit préféré est l'orange , mais mon préféré est le raisin .\n"
     ]
    }
   ],
   "source": [
    "index = 5\n",
    "print(source_text.split('\\n')[index])\n",
    "print(target_text.split('\\n')[index])"
   ]
  },
  {
   "cell_type": "markdown",
   "metadata": {},
   "source": [
    "## Implement Preprocessing Function\n",
    "### Text to Word Ids\n",
    "As you did with other RNNs, you must turn the text into a number so the computer can understand it. In the function `text_to_ids()`, you'll turn `source_text` and `target_text` from words to ids.  However, you need to add the `<EOS>` word id at the end of `target_text`.  This will help the neural network predict when the sentence should end.\n",
    "\n",
    "You can get the `<EOS>` word id by doing:\n",
    "```python\n",
    "target_vocab_to_int['<EOS>']\n",
    "```\n",
    "You can get other word ids using `source_vocab_to_int` and `target_vocab_to_int`."
   ]
  },
  {
   "cell_type": "code",
   "execution_count": 53,
   "metadata": {},
   "outputs": [
    {
     "name": "stdout",
     "output_type": "stream",
     "text": [
      "Tests Passed\n"
     ]
    }
   ],
   "source": [
    "EOS = '<EOS>'\n",
    "GO  = '<GO>'\n",
    "UNK = '<UNK>'\n",
    "def convert(text, vocab_to_int, append=True):\n",
    "    # converting the text to word ids\n",
    "    ids = [[vocab_to_int[word] for word in sentence.split()] for sentence in text.split('\\n')]\n",
    "    # appending EOS when necessary\n",
    "    if append:\n",
    "        for sentence in ids:\n",
    "            sentence.append(vocab_to_int[EOS])\n",
    "    return ids\n",
    "\n",
    "def text_to_ids(source_text, target_text, source_vocab_to_int, target_vocab_to_int):\n",
    "    \"\"\"\n",
    "    Convert source and target text to proper word ids\n",
    "    :param source_text: String that contains all the source text.\n",
    "    :param target_text: String that contains all the target text.\n",
    "    :param source_vocab_to_int: Dictionary to go from the source words to an id\n",
    "    :param target_vocab_to_int: Dictionary to go from the target words to an id\n",
    "    :return: A tuple of lists (source_id_text, target_id_text)\n",
    "    \"\"\"\n",
    "    source_vocab_to_int = convert(source_text, source_vocab_to_int, False)\n",
    "    target_vocab_to_int = convert(target_text, target_vocab_to_int)\n",
    "    return source_vocab_to_int, target_vocab_to_int\n",
    "\n",
    "\"\"\"\n",
    "DON'T MODIFY ANYTHING IN THIS CELL THAT IS BELOW THIS LINE\n",
    "\"\"\"\n",
    "tests.test_text_to_ids(text_to_ids)"
   ]
  },
  {
   "cell_type": "markdown",
   "metadata": {},
   "source": [
    "### Preprocess all the data and save it\n",
    "Running the code cell below will preprocess all the data and save it to file."
   ]
  },
  {
   "cell_type": "code",
   "execution_count": 6,
   "metadata": {},
   "outputs": [],
   "source": [
    "\"\"\"\n",
    "DON'T MODIFY ANYTHING IN THIS CELL\n",
    "\"\"\"\n",
    "helper.preprocess_and_save_data(source_path, target_path, text_to_ids)"
   ]
  },
  {
   "cell_type": "markdown",
   "metadata": {},
   "source": [
    "# Check Point\n",
    "This is your first checkpoint. If you ever decide to come back to this notebook or have to restart the notebook, you can start from here. The preprocessed data has been saved to disk."
   ]
  },
  {
   "cell_type": "code",
   "execution_count": 7,
   "metadata": {},
   "outputs": [],
   "source": [
    "\"\"\"\n",
    "DON'T MODIFY ANYTHING IN THIS CELL\n",
    "\"\"\"\n",
    "import numpy as np\n",
    "import helper\n",
    "import problem_unittests as tests\n",
    "\n",
    "(source_int_text, target_int_text), (source_vocab_to_int, target_vocab_to_int), _ = helper.load_preprocess()"
   ]
  },
  {
   "cell_type": "markdown",
   "metadata": {},
   "source": [
    "### Check the Version of TensorFlow and Access to GPU\n",
    "This will check to make sure you have the correct version of TensorFlow and access to a GPU"
   ]
  },
  {
   "cell_type": "code",
   "execution_count": 8,
   "metadata": {},
   "outputs": [
    {
     "name": "stdout",
     "output_type": "stream",
     "text": [
      "TensorFlow Version: 1.1.0\n",
      "Default GPU Device: /gpu:0\n"
     ]
    }
   ],
   "source": [
    "\"\"\"\n",
    "DON'T MODIFY ANYTHING IN THIS CELL\n",
    "\"\"\"\n",
    "from distutils.version import LooseVersion\n",
    "import warnings\n",
    "import tensorflow as tf\n",
    "from tensorflow.python.layers.core import Dense\n",
    "\n",
    "# Check TensorFlow Version\n",
    "assert LooseVersion(tf.__version__) >= LooseVersion('1.1'), 'Please use TensorFlow version 1.1 or newer'\n",
    "print('TensorFlow Version: {}'.format(tf.__version__))\n",
    "\n",
    "# Check for a GPU\n",
    "if not tf.test.gpu_device_name():\n",
    "    warnings.warn('No GPU found. Please use a GPU to train your neural network.')\n",
    "else:\n",
    "    print('Default GPU Device: {}'.format(tf.test.gpu_device_name()))"
   ]
  },
  {
   "cell_type": "markdown",
   "metadata": {},
   "source": [
    "## Build the Neural Network\n",
    "You'll build the components necessary to build a Sequence-to-Sequence model by implementing the following functions below:\n",
    "- `model_inputs`\n",
    "- `process_decoder_input`\n",
    "- `encoding_layer`\n",
    "- `decoding_layer_train`\n",
    "- `decoding_layer_infer`\n",
    "- `decoding_layer`\n",
    "- `seq2seq_model`\n",
    "\n",
    "### Input\n",
    "Implement the `model_inputs()` function to create TF Placeholders for the Neural Network. It should create the following placeholders:\n",
    "\n",
    "- Input text placeholder named \"input\" using the TF Placeholder name parameter with rank 2.\n",
    "- Targets placeholder with rank 2.\n",
    "- Learning rate placeholder with rank 0.\n",
    "- Keep probability placeholder named \"keep_prob\" using the TF Placeholder name parameter with rank 0.\n",
    "- Target sequence length placeholder named \"target_sequence_length\" with rank 1\n",
    "- Max target sequence length tensor named \"max_target_len\" getting its value from applying tf.reduce_max on the target_sequence_length placeholder. Rank 0.\n",
    "- Source sequence length placeholder named \"source_sequence_length\" with rank 1\n",
    "\n",
    "Return the placeholders in the following the tuple (input, targets, learning rate, keep probability, target sequence length, max target sequence length, source sequence length)"
   ]
  },
  {
   "cell_type": "code",
   "execution_count": 9,
   "metadata": {},
   "outputs": [
    {
     "name": "stdout",
     "output_type": "stream",
     "text": [
      "Tests Passed\n"
     ]
    }
   ],
   "source": [
    "def model_inputs():\n",
    "    \"\"\"\n",
    "    Create TF Placeholders for input, targets, learning rate, and lengths of source and target sequences.\n",
    "    :return: Tuple (input, targets, learning rate, keep probability, target sequence length,\n",
    "    max target sequence length, source sequence length)\n",
    "    \"\"\"\n",
    "    X = tf.placeholder(tf.int32, [None, None], name='input')\n",
    "    y = tf.placeholder(tf.int32, [None, None], name='labels')\n",
    "    eta = tf.placeholder(tf.float32, name='learning_rate')\n",
    "    keep_prob = tf.placeholder(tf.float32, name='keep_prob')\n",
    "    \n",
    "    y_seq_len = tf.placeholder(tf.int32, [None], name='target_sequence_length')\n",
    "    y_max_seq_len = tf.reduce_max(y_seq_len, name='max_target_len')\n",
    "    src_sequence_len = tf.placeholder(tf.int32, [None], name='source_sequence_length')\n",
    "    \n",
    "    return X, y, eta, keep_prob, y_seq_len, y_max_seq_len, src_sequence_len\n",
    "\n",
    "\"\"\"\n",
    "DON'T MODIFY ANYTHING IN THIS CELL THAT IS BELOW THIS LINE\n",
    "\"\"\"\n",
    "tests.test_model_inputs(model_inputs)"
   ]
  },
  {
   "cell_type": "markdown",
   "metadata": {},
   "source": [
    "###### Process Decoder Input\n",
    "Implement `process_decoder_input` by removing the last word id from each batch in `target_data` and concat the GO ID to the beginning of each batch."
   ]
  },
  {
   "cell_type": "code",
   "execution_count": 10,
   "metadata": {
    "scrolled": false
   },
   "outputs": [
    {
     "name": "stdout",
     "output_type": "stream",
     "text": [
      "Tests Passed\n"
     ]
    }
   ],
   "source": [
    "def process_decoder_input(target_data, target_vocab_to_int, batch_size):\n",
    "    \"\"\"\n",
    "    Preprocess target data for encoding\n",
    "    :param target_data: Target Placehoder\n",
    "    :param target_vocab_to_int: Dictionary to go from the target words to an id\n",
    "    :param batch_size: Batch Size\n",
    "    :return: Preprocessed target data\n",
    "    \"\"\"\n",
    "    # removing the last word id\n",
    "    ending = tf.strided_slice(target_data, [0, 0], [batch_size, -1], [1, 1])\n",
    "    # creating a GO id array\n",
    "    filler = tf.fill([batch_size, 1], target_vocab_to_int[GO])\n",
    "    # adding GO id at beginning of each batch\n",
    "    decoder_input = tf.concat([filler, ending], axis=1)\n",
    "    return decoder_input\n",
    "\n",
    "\"\"\"\n",
    "DON'T MODIFY ANYTHING IN THIS CELL THAT IS BELOW THIS LINE\n",
    "\"\"\"\n",
    "tests.test_process_encoding_input(process_decoder_input)"
   ]
  },
  {
   "cell_type": "markdown",
   "metadata": {},
   "source": [
    "### Encoding\n",
    "Implement `encoding_layer()` to create a Encoder RNN layer:\n",
    " * Embed the encoder input using [`tf.contrib.layers.embed_sequence`](https://www.tensorflow.org/api_docs/python/tf/contrib/layers/embed_sequence)\n",
    " * Construct a [stacked](https://github.com/tensorflow/tensorflow/blob/6947f65a374ebf29e74bb71e36fd82760056d82c/tensorflow/docs_src/tutorials/recurrent.md#stacking-multiple-lstms) [`tf.contrib.rnn.LSTMCell`](https://www.tensorflow.org/api_docs/python/tf/contrib/rnn/LSTMCell) wrapped in a [`tf.contrib.rnn.DropoutWrapper`](https://www.tensorflow.org/api_docs/python/tf/contrib/rnn/DropoutWrapper)\n",
    " * Pass cell and embedded input to [`tf.nn.dynamic_rnn()`](https://www.tensorflow.org/api_docs/python/tf/nn/dynamic_rnn)"
   ]
  },
  {
   "cell_type": "code",
   "execution_count": 34,
   "metadata": {
    "scrolled": false
   },
   "outputs": [
    {
     "name": "stdout",
     "output_type": "stream",
     "text": [
      "Tests Passed\n"
     ]
    }
   ],
   "source": [
    "from imp import reload\n",
    "reload(tests)\n",
    "\n",
    "def make_cell(rnn_size, keep_prob):\n",
    "    initializer = tf.random_uniform_initializer(-.1, .1)\n",
    "    cell = tf.contrib.rnn.LSTMCell(rnn_size, initializer=initializer)\n",
    "    cell = tf.contrib.rnn.DropoutWrapper(cell, keep_prob)\n",
    "    return cell\n",
    "\n",
    "def encoding_layer(rnn_inputs, rnn_size, num_layers, keep_prob, \n",
    "                   source_sequence_length, source_vocab_size, \n",
    "                   encoding_embedding_size):\n",
    "    \"\"\"\n",
    "    Create encoding layer\n",
    "    :param rnn_inputs: Inputs for the RNN\n",
    "    :param rnn_size: RNN Size\n",
    "    :param num_layers: Number of layers\n",
    "    :param keep_prob: Dropout keep probability\n",
    "    :param source_sequence_length: a list of the lengths of each sequence in the batch\n",
    "    :param source_vocab_size: vocabulary size of source data\n",
    "    :param encoding_embedding_size: embedding size of source data\n",
    "    :return: tuple (RNN output, RNN state)\n",
    "    \"\"\"\n",
    "    # Encoder embedding\n",
    "    enc_embed_input = tf.contrib.layers.embed_sequence(rnn_inputs, source_vocab_size, encoding_embedding_size)\n",
    "    \n",
    "    # Building RNN cell\n",
    "    enc_cell = [make_cell(rnn_size, keep_prob) for _ in range(num_layers)]\n",
    "    enc_cell = tf.contrib.rnn.MultiRNNCell(enc_cell)\n",
    "    \n",
    "    # Running dynamic RNN\n",
    "    output, state = tf.nn.dynamic_rnn(enc_cell, enc_embed_input, source_sequence_length, dtype=tf.float32)\n",
    "    return output, state\n",
    "\n",
    "\"\"\"\n",
    "DON'T MODIFY ANYTHING IN THIS CELL THAT IS BELOW THIS LINE\n",
    "\"\"\"\n",
    "tests.test_encoding_layer(encoding_layer)"
   ]
  },
  {
   "cell_type": "markdown",
   "metadata": {},
   "source": [
    "### Decoding - Training\n",
    "Create a training decoding layer:\n",
    "* Create a [`tf.contrib.seq2seq.TrainingHelper`](https://www.tensorflow.org/api_docs/python/tf/contrib/seq2seq/TrainingHelper) \n",
    "* Create a [`tf.contrib.seq2seq.BasicDecoder`](https://www.tensorflow.org/api_docs/python/tf/contrib/seq2seq/BasicDecoder)\n",
    "* Obtain the decoder outputs from [`tf.contrib.seq2seq.dynamic_decode`](https://www.tensorflow.org/api_docs/python/tf/contrib/seq2seq/dynamic_decode)"
   ]
  },
  {
   "cell_type": "code",
   "execution_count": 31,
   "metadata": {},
   "outputs": [
    {
     "name": "stdout",
     "output_type": "stream",
     "text": [
      "Tests Passed\n"
     ]
    }
   ],
   "source": [
    "def decoding_layer_train(encoder_state, dec_cell, dec_embed_input, \n",
    "                         target_sequence_length, max_summary_length, \n",
    "                         output_layer, keep_prob):\n",
    "    \"\"\"\n",
    "    Create a decoding layer for training\n",
    "    :param encoder_state: Encoder State\n",
    "    :param dec_cell: Decoder RNN Cell\n",
    "    :param dec_embed_input: Decoder embedded input\n",
    "    :param target_sequence_length: The lengths of each sequence in the target batch\n",
    "    :param max_summary_length: The length of the longest sequence in the batch\n",
    "    :param output_layer: Function to apply the output layer\n",
    "    :param keep_prob: Dropout keep probability\n",
    "    :return: BasicDecoderOutput containing training logits and sample_id\n",
    "    \"\"\"\n",
    "    # https://github.com/tensorflow/nmt#decoder\n",
    "    # helper\n",
    "    helper = tf.contrib.seq2seq.TrainingHelper(dec_embed_input, target_sequence_length)\n",
    "    # decoder\n",
    "    decoder = tf.contrib.seq2seq.BasicDecoder(\n",
    "        dec_cell, helper, encoder_state,\n",
    "        output_layer=output_layer)\n",
    "    # dynamic decoding\n",
    "    decoder_output, _ = tf.contrib.seq2seq.dynamic_decode(decoder, impute_finished=True, maximum_iterations=max_summary_length)\n",
    "    return decoder_output\n",
    "\n",
    "\"\"\"\n",
    "DON'T MODIFY ANYTHING IN THIS CELL THAT IS BELOW THIS LINE\n",
    "\"\"\"\n",
    "tests.test_decoding_layer_train(decoding_layer_train)"
   ]
  },
  {
   "cell_type": "markdown",
   "metadata": {},
   "source": [
    "### Decoding - Inference\n",
    "Create inference decoder:\n",
    "* Create a [`tf.contrib.seq2seq.GreedyEmbeddingHelper`](https://www.tensorflow.org/api_docs/python/tf/contrib/seq2seq/GreedyEmbeddingHelper)\n",
    "* Create a [`tf.contrib.seq2seq.BasicDecoder`](https://www.tensorflow.org/api_docs/python/tf/contrib/seq2seq/BasicDecoder)\n",
    "* Obtain the decoder outputs from [`tf.contrib.seq2seq.dynamic_decode`](https://www.tensorflow.org/api_docs/python/tf/contrib/seq2seq/dynamic_decode)"
   ]
  },
  {
   "cell_type": "code",
   "execution_count": 29,
   "metadata": {
    "scrolled": false
   },
   "outputs": [
    {
     "name": "stdout",
     "output_type": "stream",
     "text": [
      "Tests Passed\n"
     ]
    }
   ],
   "source": [
    "def decoding_layer_infer(encoder_state, dec_cell, dec_embeddings, start_of_sequence_id,\n",
    "                         end_of_sequence_id, max_target_sequence_length,\n",
    "                         vocab_size, output_layer, batch_size, keep_prob):\n",
    "    \"\"\"\n",
    "    Create a decoding layer for inference\n",
    "    :param encoder_state: Encoder state\n",
    "    :param dec_cell: Decoder RNN Cell\n",
    "    :param dec_embeddings: Decoder embeddings\n",
    "    :param start_of_sequence_id: GO ID\n",
    "    :param end_of_sequence_id: EOS Id\n",
    "    :param max_target_sequence_length: Maximum length of target sequences\n",
    "    :param vocab_size: Size of decoder/target vocabulary\n",
    "    :param decoding_scope: TenorFlow Variable Scope for decoding\n",
    "    :param output_layer: Function to apply the output layer\n",
    "    :param batch_size: Batch size\n",
    "    :param keep_prob: Dropout keep probability\n",
    "    :return: BasicDecoderOutput containing inference logits and sample_id\n",
    "    \"\"\"\n",
    "    # https://github.com/tensorflow/nmt#inference--how-to-generate-translations\n",
    "    # helper\n",
    "    start_tokens = tf.fill([batch_size], start_of_sequence_id)\n",
    "    inference_helper = tf.contrib.seq2seq.GreedyEmbeddingHelper(\n",
    "        dec_embeddings, start_tokens, end_of_sequence_id)\n",
    "\n",
    "    # decoder\n",
    "    decoder = tf.contrib.seq2seq.BasicDecoder(\n",
    "        dec_cell, inference_helper, encoder_state, output_layer=output_layer)\n",
    "\n",
    "    # dynamic decoding\n",
    "    outputs, _ = tf.contrib.seq2seq.dynamic_decode(decoder, impute_finished=True, maximum_iterations=max_target_sequence_length)\n",
    "        \n",
    "    return outputs\n",
    "\n",
    "\"\"\"\n",
    "DON'T MODIFY ANYTHING IN THIS CELL THAT IS BELOW THIS LINE\n",
    "\"\"\"\n",
    "tests.test_decoding_layer_infer(decoding_layer_infer)"
   ]
  },
  {
   "cell_type": "markdown",
   "metadata": {},
   "source": [
    "### Build the Decoding Layer\n",
    "Implement `decoding_layer()` to create a Decoder RNN layer.\n",
    "\n",
    "* Embed the target sequences\n",
    "* Construct the decoder LSTM cell (just like you constructed the encoder cell above)\n",
    "* Create an output layer to map the outputs of the decoder to the elements of our vocabulary\n",
    "* Use the your `decoding_layer_train(encoder_state, dec_cell, dec_embed_input, target_sequence_length, max_target_sequence_length, output_layer, keep_prob)` function to get the training logits.\n",
    "* Use your `decoding_layer_infer(encoder_state, dec_cell, dec_embeddings, start_of_sequence_id, end_of_sequence_id, max_target_sequence_length, vocab_size, output_layer, batch_size, keep_prob)` function to get the inference logits.\n",
    "\n",
    "Note: You'll need to use [tf.variable_scope](https://www.tensorflow.org/api_docs/python/tf/variable_scope) to share variables between training and inference."
   ]
  },
  {
   "cell_type": "code",
   "execution_count": 35,
   "metadata": {},
   "outputs": [],
   "source": [
    "def get_embed(input_data, vocab_size, embed_dim, name=None):\n",
    "    \"\"\"\n",
    "    Create embedding for input_data.\n",
    "    :param input_data: TF placeholder.\n",
    "    :param vocab_size: Number of words in vocabulary.\n",
    "    :param embed_dim:  Number of embedding dimensions\n",
    "    :return: Tuple of (Embedded input, embedding variable)\n",
    "    \"\"\"\n",
    "    embedding = tf.Variable(tf.random_uniform((vocab_size, embed_dim), -1, 1))\n",
    "    embded = tf.nn.embedding_lookup(embedding, ids=input_data, name=name)\n",
    "    return embded, embedding"
   ]
  },
  {
   "cell_type": "code",
   "execution_count": 37,
   "metadata": {},
   "outputs": [
    {
     "name": "stdout",
     "output_type": "stream",
     "text": [
      "Tests Passed\n"
     ]
    }
   ],
   "source": [
    "def decoding_layer(dec_input, encoder_state,\n",
    "                   target_sequence_length, max_target_sequence_length,\n",
    "                   rnn_size,\n",
    "                   num_layers, target_vocab_to_int, target_vocab_size,\n",
    "                   batch_size, keep_prob, decoding_embedding_size):\n",
    "    \"\"\"\n",
    "    Create decoding layer\n",
    "    :param dec_input: Decoder input\n",
    "    :param encoder_state: Encoder state\n",
    "    :param target_sequence_length: The lengths of each sequence in the target batch\n",
    "    :param max_target_sequence_length: Maximum length of target sequences\n",
    "    :param rnn_size: RNN Size\n",
    "    :param num_layers: Number of layers\n",
    "    :param target_vocab_to_int: Dictionary to go from the target words to an id\n",
    "    :param target_vocab_size: Size of target vocabulary\n",
    "    :param batch_size: The size of the batch\n",
    "    :param keep_prob: Dropout keep probability\n",
    "    :param decoding_embedding_size: Decoding embedding size\n",
    "    :return: Tuple of (Training BasicDecoderOutput, Inference BasicDecoderOutput)\n",
    "    \"\"\"\n",
    "    # decoder embedding\n",
    "    dec_embed_input, dec_embeddings = get_embed(dec_input, target_vocab_size, decoding_embedding_size)\n",
    "    \n",
    "    # decoder cell\n",
    "    dec_cell = [make_cell(rnn_size, keep_prob) for _ in range(num_layers)]\n",
    "    dec_cell = tf.contrib.rnn.MultiRNNCell(dec_cell)\n",
    "    \n",
    "    # output layer to map the outputs of the decoder\n",
    "    output_layer = Dense(target_vocab_size,\n",
    "                         kernel_initializer=tf.truncated_normal_initializer(mean=.0, stddev=.1))\n",
    "    \n",
    "    # training decoder\n",
    "    with tf.variable_scope('decode'):\n",
    "        training_decoder_output = decoding_layer_train(\n",
    "            encoder_state, dec_cell, dec_embed_input,\n",
    "            target_sequence_length, max_target_sequence_length,\n",
    "            output_layer, keep_prob)\n",
    "    \n",
    "    # inference decoder\n",
    "    start_of_sequence_id = target_vocab_to_int[GO]\n",
    "    end_of_sequence_id = target_vocab_to_int[EOS]\n",
    "    \n",
    "    with tf.variable_scope('decode', reuse=True):\n",
    "        inference_decoder_output = decoding_layer_infer(\n",
    "            encoder_state, dec_cell, dec_embeddings,\n",
    "            start_of_sequence_id, end_of_sequence_id, max_target_sequence_length,\n",
    "            target_vocab_size, output_layer, batch_size, keep_prob)\n",
    "    \n",
    "    return training_decoder_output, inference_decoder_output\n",
    "\n",
    "\"\"\"\n",
    "DON'T MODIFY ANYTHING IN THIS CELL THAT IS BELOW THIS LINE\n",
    "\"\"\"\n",
    "tests.test_decoding_layer(decoding_layer)"
   ]
  },
  {
   "cell_type": "markdown",
   "metadata": {},
   "source": [
    "### Build the Neural Network\n",
    "Apply the functions you implemented above to:\n",
    "\n",
    "- Encode the input using your `encoding_layer(rnn_inputs, rnn_size, num_layers, keep_prob,  source_sequence_length, source_vocab_size, encoding_embedding_size)`.\n",
    "- Process target data using your `process_decoder_input(target_data, target_vocab_to_int, batch_size)` function.\n",
    "- Decode the encoded input using your `decoding_layer(dec_input, enc_state, target_sequence_length, max_target_sentence_length, rnn_size, num_layers, target_vocab_to_int, target_vocab_size, batch_size, keep_prob, dec_embedding_size)` function."
   ]
  },
  {
   "cell_type": "code",
   "execution_count": 40,
   "metadata": {},
   "outputs": [
    {
     "name": "stdout",
     "output_type": "stream",
     "text": [
      "Tests Passed\n"
     ]
    }
   ],
   "source": [
    "def seq2seq_model(input_data, target_data, keep_prob, batch_size,\n",
    "                  source_sequence_length, target_sequence_length,\n",
    "                  max_target_sentence_length,\n",
    "                  source_vocab_size, target_vocab_size,\n",
    "                  enc_embedding_size, dec_embedding_size,\n",
    "                  rnn_size, num_layers, target_vocab_to_int):\n",
    "    \"\"\"\n",
    "    Build the Sequence-to-Sequence part of the neural network\n",
    "    :param input_data: Input placeholder\n",
    "    :param target_data: Target placeholder\n",
    "    :param keep_prob: Dropout keep probability placeholder\n",
    "    :param batch_size: Batch Size\n",
    "    :param source_sequence_length: Sequence Lengths of source sequences in the batch\n",
    "    :param target_sequence_length: Sequence Lengths of target sequences in the batch\n",
    "    :param source_vocab_size: Source vocabulary size\n",
    "    :param target_vocab_size: Target vocabulary size\n",
    "    :param enc_embedding_size: Decoder embedding size\n",
    "    :param dec_embedding_size: Encoder embedding size\n",
    "    :param rnn_size: RNN Size\n",
    "    :param num_layers: Number of layers\n",
    "    :param target_vocab_to_int: Dictionary to go from the target words to an id\n",
    "    :return: Tuple of (Training BasicDecoderOutput, Inference BasicDecoderOutput)\n",
    "    \"\"\"\n",
    "    # building the enconding layer\n",
    "    _, enc_state = encoding_layer(input_data, rnn_size, num_layers, keep_prob,\n",
    "                          source_sequence_length, source_vocab_size, enc_embedding_size)\n",
    "    \n",
    "    # processing the target sequence\n",
    "    dec_input = process_decoder_input(target_data, target_vocab_to_int, batch_size)\n",
    "    \n",
    "    # building the decoding layer\n",
    "    training_decoder_output, inference_decoder_output = \\\n",
    "        decoding_layer(dec_input, enc_state, target_sequence_length, max_target_sentence_length,\n",
    "                      rnn_size, num_layers, target_vocab_to_int, target_vocab_size, batch_size,\n",
    "                       keep_prob, dec_embedding_size)\n",
    "\n",
    "    return training_decoder_output, inference_decoder_output\n",
    "\n",
    "\"\"\"\n",
    "DON'T MODIFY ANYTHING IN THIS CELL THAT IS BELOW THIS LINE\n",
    "\"\"\"\n",
    "tests.test_seq2seq_model(seq2seq_model)"
   ]
  },
  {
   "cell_type": "markdown",
   "metadata": {},
   "source": [
    "## Neural Network Training\n",
    "### Hyperparameters\n",
    "Tune the following parameters:\n",
    "\n",
    "- Set `epochs` to the number of epochs.\n",
    "- Set `batch_size` to the batch size.\n",
    "- Set `rnn_size` to the size of the RNNs.\n",
    "- Set `num_layers` to the number of layers.\n",
    "- Set `encoding_embedding_size` to the size of the embedding for the encoder.\n",
    "- Set `decoding_embedding_size` to the size of the embedding for the decoder.\n",
    "- Set `learning_rate` to the learning rate.\n",
    "- Set `keep_probability` to the Dropout keep probability\n",
    "- Set `display_step` to state how many steps between each debug output statement"
   ]
  },
  {
   "cell_type": "code",
   "execution_count": 59,
   "metadata": {},
   "outputs": [],
   "source": [
    "# Number of Epochs\n",
    "epochs = 10\n",
    "# Batch Size\n",
    "batch_size = 1024\n",
    "# RNN Size\n",
    "rnn_size = 512\n",
    "# Number of Layers\n",
    "num_layers = 2\n",
    "# Embedding Size\n",
    "encoding_embedding_size = 200\n",
    "decoding_embedding_size = 200\n",
    "# Learning Rate\n",
    "learning_rate = 1e-3\n",
    "# Dropout Keep Probability\n",
    "keep_probability = .75\n",
    "display_step = 10"
   ]
  },
  {
   "cell_type": "markdown",
   "metadata": {},
   "source": [
    "### Build the Graph\n",
    "Build the graph using the neural network you implemented."
   ]
  },
  {
   "cell_type": "code",
   "execution_count": 60,
   "metadata": {},
   "outputs": [],
   "source": [
    "\"\"\"\n",
    "DON'T MODIFY ANYTHING IN THIS CELL\n",
    "\"\"\"\n",
    "save_path = 'checkpoints/dev'\n",
    "(source_int_text, target_int_text), (source_vocab_to_int, target_vocab_to_int), _ = helper.load_preprocess()\n",
    "max_target_sentence_length = max([len(sentence) for sentence in source_int_text])\n",
    "\n",
    "train_graph = tf.Graph()\n",
    "with train_graph.as_default():\n",
    "    input_data, targets, lr, keep_prob, target_sequence_length, max_target_sequence_length, source_sequence_length = model_inputs()\n",
    "\n",
    "    #sequence_length = tf.placeholder_with_default(max_target_sentence_length, None, name='sequence_length')\n",
    "    input_shape = tf.shape(input_data)\n",
    "\n",
    "    train_logits, inference_logits = seq2seq_model(tf.reverse(input_data, [-1]),\n",
    "                                                   targets,\n",
    "                                                   keep_prob,\n",
    "                                                   batch_size,\n",
    "                                                   source_sequence_length,\n",
    "                                                   target_sequence_length,\n",
    "                                                   max_target_sequence_length,\n",
    "                                                   len(source_vocab_to_int),\n",
    "                                                   len(target_vocab_to_int),\n",
    "                                                   encoding_embedding_size,\n",
    "                                                   decoding_embedding_size,\n",
    "                                                   rnn_size,\n",
    "                                                   num_layers,\n",
    "                                                   target_vocab_to_int)\n",
    "\n",
    "\n",
    "    training_logits = tf.identity(train_logits.rnn_output, name='logits')\n",
    "    inference_logits = tf.identity(inference_logits.sample_id, name='predictions')\n",
    "\n",
    "    masks = tf.sequence_mask(target_sequence_length, max_target_sequence_length, dtype=tf.float32, name='masks')\n",
    "\n",
    "    with tf.name_scope(\"optimization\"):\n",
    "        # Loss function\n",
    "        cost = tf.contrib.seq2seq.sequence_loss(\n",
    "            training_logits,\n",
    "            targets,\n",
    "            masks)\n",
    "\n",
    "        # Optimizer\n",
    "        optimizer = tf.train.AdamOptimizer(lr)\n",
    "\n",
    "        # Gradient Clipping\n",
    "        gradients = optimizer.compute_gradients(cost)\n",
    "        capped_gradients = [(tf.clip_by_value(grad, -1., 1.), var) for grad, var in gradients if grad is not None]\n",
    "        train_op = optimizer.apply_gradients(capped_gradients)\n"
   ]
  },
  {
   "cell_type": "markdown",
   "metadata": {},
   "source": [
    "Batch and pad the source and target sequences"
   ]
  },
  {
   "cell_type": "code",
   "execution_count": 61,
   "metadata": {},
   "outputs": [],
   "source": [
    "\"\"\"\n",
    "DON'T MODIFY ANYTHING IN THIS CELL\n",
    "\"\"\"\n",
    "def pad_sentence_batch(sentence_batch, pad_int):\n",
    "    \"\"\"Pad sentences with <PAD> so that each sentence of a batch has the same length\"\"\"\n",
    "    max_sentence = max([len(sentence) for sentence in sentence_batch])\n",
    "    return [sentence + [pad_int] * (max_sentence - len(sentence)) for sentence in sentence_batch]\n",
    "\n",
    "\n",
    "def get_batches(sources, targets, batch_size, source_pad_int, target_pad_int):\n",
    "    \"\"\"Batch targets, sources, and the lengths of their sentences together\"\"\"\n",
    "    for batch_i in range(0, len(sources)//batch_size):\n",
    "        start_i = batch_i * batch_size\n",
    "\n",
    "        # Slice the right amount for the batch\n",
    "        sources_batch = sources[start_i:start_i + batch_size]\n",
    "        targets_batch = targets[start_i:start_i + batch_size]\n",
    "\n",
    "        # Pad\n",
    "        pad_sources_batch = np.array(pad_sentence_batch(sources_batch, source_pad_int))\n",
    "        pad_targets_batch = np.array(pad_sentence_batch(targets_batch, target_pad_int))\n",
    "\n",
    "        # Need the lengths for the _lengths parameters\n",
    "        pad_targets_lengths = []\n",
    "        for target in pad_targets_batch:\n",
    "            pad_targets_lengths.append(len(target))\n",
    "\n",
    "        pad_source_lengths = []\n",
    "        for source in pad_sources_batch:\n",
    "            pad_source_lengths.append(len(source))\n",
    "\n",
    "        yield pad_sources_batch, pad_targets_batch, pad_source_lengths, pad_targets_lengths\n"
   ]
  },
  {
   "cell_type": "markdown",
   "metadata": {},
   "source": [
    "### Train\n",
    "Train the neural network on the preprocessed data. If you have a hard time getting a good loss, check the forms to see if anyone is having the same problem."
   ]
  },
  {
   "cell_type": "code",
   "execution_count": 62,
   "metadata": {
    "scrolled": true
   },
   "outputs": [
    {
     "name": "stdout",
     "output_type": "stream",
     "text": [
      "Epoch   0 Batch   10/134 - Train Accuracy: 0.3689, Validation Accuracy: 0.3993, Loss: 2.4915\n",
      "Epoch   0 Batch   20/134 - Train Accuracy: 0.4177, Validation Accuracy: 0.4267, Loss: 1.7654\n",
      "Epoch   0 Batch   30/134 - Train Accuracy: 0.4224, Validation Accuracy: 0.4279, Loss: 1.4234\n",
      "Epoch   0 Batch   40/134 - Train Accuracy: 0.4372, Validation Accuracy: 0.4561, Loss: 1.2522\n",
      "Epoch   0 Batch   50/134 - Train Accuracy: 0.4443, Validation Accuracy: 0.4728, Loss: 1.0803\n",
      "Epoch   0 Batch   60/134 - Train Accuracy: 0.4851, Validation Accuracy: 0.5025, Loss: 0.9520\n",
      "Epoch   0 Batch   70/134 - Train Accuracy: 0.4930, Validation Accuracy: 0.5045, Loss: 0.8314\n",
      "Epoch   0 Batch   80/134 - Train Accuracy: 0.5245, Validation Accuracy: 0.5386, Loss: 0.7845\n",
      "Epoch   0 Batch   90/134 - Train Accuracy: 0.5348, Validation Accuracy: 0.5545, Loss: 0.7691\n",
      "Epoch   0 Batch  100/134 - Train Accuracy: 0.5817, Validation Accuracy: 0.5898, Loss: 0.7070\n",
      "Epoch   0 Batch  110/134 - Train Accuracy: 0.5820, Validation Accuracy: 0.5727, Loss: 0.6771\n",
      "Epoch   0 Batch  120/134 - Train Accuracy: 0.5851, Validation Accuracy: 0.5979, Loss: 0.6546\n",
      "Epoch   0 Batch  130/134 - Train Accuracy: 0.6053, Validation Accuracy: 0.6193, Loss: 0.6181\n",
      "Epoch   1 Batch   10/134 - Train Accuracy: 0.5910, Validation Accuracy: 0.5938, Loss: 0.6060\n",
      "Epoch   1 Batch   20/134 - Train Accuracy: 0.6294, Validation Accuracy: 0.6154, Loss: 0.5498\n",
      "Epoch   1 Batch   30/134 - Train Accuracy: 0.6379, Validation Accuracy: 0.6222, Loss: 0.5205\n",
      "Epoch   1 Batch   40/134 - Train Accuracy: 0.6486, Validation Accuracy: 0.6381, Loss: 0.5218\n",
      "Epoch   1 Batch   50/134 - Train Accuracy: 0.6294, Validation Accuracy: 0.6479, Loss: 0.5011\n",
      "Epoch   1 Batch   60/134 - Train Accuracy: 0.6451, Validation Accuracy: 0.6625, Loss: 0.4724\n",
      "Epoch   1 Batch   70/134 - Train Accuracy: 0.6911, Validation Accuracy: 0.6970, Loss: 0.4431\n",
      "Epoch   1 Batch   80/134 - Train Accuracy: 0.7121, Validation Accuracy: 0.7241, Loss: 0.4119\n",
      "Epoch   1 Batch   90/134 - Train Accuracy: 0.7565, Validation Accuracy: 0.7563, Loss: 0.3848\n",
      "Epoch   1 Batch  100/134 - Train Accuracy: 0.7635, Validation Accuracy: 0.7715, Loss: 0.3523\n",
      "Epoch   1 Batch  110/134 - Train Accuracy: 0.8067, Validation Accuracy: 0.7976, Loss: 0.3214\n",
      "Epoch   1 Batch  120/134 - Train Accuracy: 0.8177, Validation Accuracy: 0.8172, Loss: 0.3016\n",
      "Epoch   1 Batch  130/134 - Train Accuracy: 0.8359, Validation Accuracy: 0.8443, Loss: 0.2627\n",
      "Epoch   2 Batch   10/134 - Train Accuracy: 0.8581, Validation Accuracy: 0.8569, Loss: 0.2287\n",
      "Epoch   2 Batch   20/134 - Train Accuracy: 0.8794, Validation Accuracy: 0.8681, Loss: 0.1928\n",
      "Epoch   2 Batch   30/134 - Train Accuracy: 0.8866, Validation Accuracy: 0.8877, Loss: 0.1671\n",
      "Epoch   2 Batch   40/134 - Train Accuracy: 0.8897, Validation Accuracy: 0.9015, Loss: 0.1587\n",
      "Epoch   2 Batch   50/134 - Train Accuracy: 0.8874, Validation Accuracy: 0.9139, Loss: 0.1398\n",
      "Epoch   2 Batch   60/134 - Train Accuracy: 0.9074, Validation Accuracy: 0.9129, Loss: 0.1203\n",
      "Epoch   2 Batch   70/134 - Train Accuracy: 0.9061, Validation Accuracy: 0.9180, Loss: 0.1165\n",
      "Epoch   2 Batch   80/134 - Train Accuracy: 0.9152, Validation Accuracy: 0.9191, Loss: 0.1013\n",
      "Epoch   2 Batch   90/134 - Train Accuracy: 0.9083, Validation Accuracy: 0.9234, Loss: 0.0997\n",
      "Epoch   2 Batch  100/134 - Train Accuracy: 0.9196, Validation Accuracy: 0.9252, Loss: 0.0898\n",
      "Epoch   2 Batch  110/134 - Train Accuracy: 0.9233, Validation Accuracy: 0.9329, Loss: 0.0843\n",
      "Epoch   2 Batch  120/134 - Train Accuracy: 0.9259, Validation Accuracy: 0.9324, Loss: 0.0875\n",
      "Epoch   2 Batch  130/134 - Train Accuracy: 0.9256, Validation Accuracy: 0.9398, Loss: 0.0730\n",
      "Epoch   3 Batch   10/134 - Train Accuracy: 0.9249, Validation Accuracy: 0.9434, Loss: 0.0726\n",
      "Epoch   3 Batch   20/134 - Train Accuracy: 0.9379, Validation Accuracy: 0.9442, Loss: 0.0635\n",
      "Epoch   3 Batch   30/134 - Train Accuracy: 0.9294, Validation Accuracy: 0.9498, Loss: 0.0632\n",
      "Epoch   3 Batch   40/134 - Train Accuracy: 0.9388, Validation Accuracy: 0.9443, Loss: 0.0613\n",
      "Epoch   3 Batch   50/134 - Train Accuracy: 0.9304, Validation Accuracy: 0.9442, Loss: 0.0625\n",
      "Epoch   3 Batch   60/134 - Train Accuracy: 0.9391, Validation Accuracy: 0.9466, Loss: 0.0559\n",
      "Epoch   3 Batch   70/134 - Train Accuracy: 0.9409, Validation Accuracy: 0.9531, Loss: 0.0564\n",
      "Epoch   3 Batch   80/134 - Train Accuracy: 0.9477, Validation Accuracy: 0.9472, Loss: 0.0507\n",
      "Epoch   3 Batch   90/134 - Train Accuracy: 0.9434, Validation Accuracy: 0.9533, Loss: 0.0546\n",
      "Epoch   3 Batch  100/134 - Train Accuracy: 0.9508, Validation Accuracy: 0.9507, Loss: 0.0499\n",
      "Epoch   3 Batch  110/134 - Train Accuracy: 0.9528, Validation Accuracy: 0.9538, Loss: 0.0463\n",
      "Epoch   3 Batch  120/134 - Train Accuracy: 0.9486, Validation Accuracy: 0.9556, Loss: 0.0523\n",
      "Epoch   3 Batch  130/134 - Train Accuracy: 0.9503, Validation Accuracy: 0.9567, Loss: 0.0466\n",
      "Epoch   4 Batch   10/134 - Train Accuracy: 0.9457, Validation Accuracy: 0.9587, Loss: 0.0451\n",
      "Epoch   4 Batch   20/134 - Train Accuracy: 0.9571, Validation Accuracy: 0.9587, Loss: 0.0408\n",
      "Epoch   4 Batch   30/134 - Train Accuracy: 0.9508, Validation Accuracy: 0.9624, Loss: 0.0416\n",
      "Epoch   4 Batch   40/134 - Train Accuracy: 0.9550, Validation Accuracy: 0.9600, Loss: 0.0422\n",
      "Epoch   4 Batch   50/134 - Train Accuracy: 0.9524, Validation Accuracy: 0.9565, Loss: 0.0406\n",
      "Epoch   4 Batch   60/134 - Train Accuracy: 0.9551, Validation Accuracy: 0.9537, Loss: 0.0372\n",
      "Epoch   4 Batch   70/134 - Train Accuracy: 0.9580, Validation Accuracy: 0.9624, Loss: 0.0386\n",
      "Epoch   4 Batch   80/134 - Train Accuracy: 0.9630, Validation Accuracy: 0.9557, Loss: 0.0357\n",
      "Epoch   4 Batch   90/134 - Train Accuracy: 0.9564, Validation Accuracy: 0.9638, Loss: 0.0389\n",
      "Epoch   4 Batch  100/134 - Train Accuracy: 0.9578, Validation Accuracy: 0.9618, Loss: 0.0353\n",
      "Epoch   4 Batch  110/134 - Train Accuracy: 0.9607, Validation Accuracy: 0.9582, Loss: 0.0347\n",
      "Epoch   4 Batch  120/134 - Train Accuracy: 0.9631, Validation Accuracy: 0.9683, Loss: 0.0384\n",
      "Epoch   4 Batch  130/134 - Train Accuracy: 0.9648, Validation Accuracy: 0.9689, Loss: 0.0329\n",
      "Epoch   5 Batch   10/134 - Train Accuracy: 0.9621, Validation Accuracy: 0.9711, Loss: 0.0328\n",
      "Epoch   5 Batch   20/134 - Train Accuracy: 0.9653, Validation Accuracy: 0.9608, Loss: 0.0296\n",
      "Epoch   5 Batch   30/134 - Train Accuracy: 0.9600, Validation Accuracy: 0.9659, Loss: 0.0316\n",
      "Epoch   5 Batch   40/134 - Train Accuracy: 0.9684, Validation Accuracy: 0.9665, Loss: 0.0309\n",
      "Epoch   5 Batch   50/134 - Train Accuracy: 0.9720, Validation Accuracy: 0.9684, Loss: 0.0299\n",
      "Epoch   5 Batch   60/134 - Train Accuracy: 0.9675, Validation Accuracy: 0.9678, Loss: 0.0286\n",
      "Epoch   5 Batch   70/134 - Train Accuracy: 0.9665, Validation Accuracy: 0.9709, Loss: 0.0284\n",
      "Epoch   5 Batch   80/134 - Train Accuracy: 0.9733, Validation Accuracy: 0.9725, Loss: 0.0275\n",
      "Epoch   5 Batch   90/134 - Train Accuracy: 0.9664, Validation Accuracy: 0.9732, Loss: 0.0283\n",
      "Epoch   5 Batch  100/134 - Train Accuracy: 0.9727, Validation Accuracy: 0.9722, Loss: 0.0275\n",
      "Epoch   5 Batch  110/134 - Train Accuracy: 0.9676, Validation Accuracy: 0.9693, Loss: 0.0254\n",
      "Epoch   5 Batch  120/134 - Train Accuracy: 0.9692, Validation Accuracy: 0.9747, Loss: 0.0285\n",
      "Epoch   5 Batch  130/134 - Train Accuracy: 0.9729, Validation Accuracy: 0.9742, Loss: 0.0245\n",
      "Epoch   6 Batch   10/134 - Train Accuracy: 0.9716, Validation Accuracy: 0.9730, Loss: 0.0254\n",
      "Epoch   6 Batch   20/134 - Train Accuracy: 0.9695, Validation Accuracy: 0.9729, Loss: 0.0239\n",
      "Epoch   6 Batch   30/134 - Train Accuracy: 0.9687, Validation Accuracy: 0.9723, Loss: 0.0246\n",
      "Epoch   6 Batch   40/134 - Train Accuracy: 0.9728, Validation Accuracy: 0.9707, Loss: 0.0242\n",
      "Epoch   6 Batch   50/134 - Train Accuracy: 0.9735, Validation Accuracy: 0.9782, Loss: 0.0250\n",
      "Epoch   6 Batch   60/134 - Train Accuracy: 0.9740, Validation Accuracy: 0.9724, Loss: 0.0243\n",
      "Epoch   6 Batch   70/134 - Train Accuracy: 0.9738, Validation Accuracy: 0.9767, Loss: 0.0232\n",
      "Epoch   6 Batch   80/134 - Train Accuracy: 0.9782, Validation Accuracy: 0.9788, Loss: 0.0213\n",
      "Epoch   6 Batch   90/134 - Train Accuracy: 0.9721, Validation Accuracy: 0.9773, Loss: 0.0238\n",
      "Epoch   6 Batch  100/134 - Train Accuracy: 0.9771, Validation Accuracy: 0.9765, Loss: 0.0216\n",
      "Epoch   6 Batch  110/134 - Train Accuracy: 0.9766, Validation Accuracy: 0.9779, Loss: 0.0204\n"
     ]
    },
    {
     "name": "stdout",
     "output_type": "stream",
     "text": [
      "Epoch   6 Batch  120/134 - Train Accuracy: 0.9756, Validation Accuracy: 0.9787, Loss: 0.0238\n",
      "Epoch   6 Batch  130/134 - Train Accuracy: 0.9747, Validation Accuracy: 0.9773, Loss: 0.0208\n",
      "Epoch   7 Batch   10/134 - Train Accuracy: 0.9780, Validation Accuracy: 0.9782, Loss: 0.0204\n",
      "Epoch   7 Batch   20/134 - Train Accuracy: 0.9756, Validation Accuracy: 0.9767, Loss: 0.0192\n",
      "Epoch   7 Batch   30/134 - Train Accuracy: 0.9760, Validation Accuracy: 0.9779, Loss: 0.0208\n",
      "Epoch   7 Batch   40/134 - Train Accuracy: 0.9807, Validation Accuracy: 0.9723, Loss: 0.0194\n",
      "Epoch   7 Batch   50/134 - Train Accuracy: 0.9762, Validation Accuracy: 0.9782, Loss: 0.0220\n",
      "Epoch   7 Batch   60/134 - Train Accuracy: 0.9762, Validation Accuracy: 0.9757, Loss: 0.0197\n",
      "Epoch   7 Batch   70/134 - Train Accuracy: 0.9736, Validation Accuracy: 0.9764, Loss: 0.0200\n",
      "Epoch   7 Batch   80/134 - Train Accuracy: 0.9799, Validation Accuracy: 0.9788, Loss: 0.0186\n",
      "Epoch   7 Batch   90/134 - Train Accuracy: 0.9786, Validation Accuracy: 0.9808, Loss: 0.0200\n",
      "Epoch   7 Batch  100/134 - Train Accuracy: 0.9812, Validation Accuracy: 0.9771, Loss: 0.0189\n",
      "Epoch   7 Batch  110/134 - Train Accuracy: 0.9802, Validation Accuracy: 0.9770, Loss: 0.0170\n",
      "Epoch   7 Batch  120/134 - Train Accuracy: 0.9787, Validation Accuracy: 0.9782, Loss: 0.0200\n",
      "Epoch   7 Batch  130/134 - Train Accuracy: 0.9792, Validation Accuracy: 0.9802, Loss: 0.0168\n",
      "Epoch   8 Batch   10/134 - Train Accuracy: 0.9778, Validation Accuracy: 0.9815, Loss: 0.0175\n",
      "Epoch   8 Batch   20/134 - Train Accuracy: 0.9822, Validation Accuracy: 0.9802, Loss: 0.0163\n",
      "Epoch   8 Batch   30/134 - Train Accuracy: 0.9797, Validation Accuracy: 0.9824, Loss: 0.0187\n",
      "Epoch   8 Batch   40/134 - Train Accuracy: 0.9842, Validation Accuracy: 0.9832, Loss: 0.0165\n",
      "Epoch   8 Batch   50/134 - Train Accuracy: 0.9815, Validation Accuracy: 0.9775, Loss: 0.0179\n",
      "Epoch   8 Batch   60/134 - Train Accuracy: 0.9755, Validation Accuracy: 0.9811, Loss: 0.0170\n",
      "Epoch   8 Batch   70/134 - Train Accuracy: 0.9822, Validation Accuracy: 0.9800, Loss: 0.0183\n",
      "Epoch   8 Batch   80/134 - Train Accuracy: 0.9789, Validation Accuracy: 0.9831, Loss: 0.0151\n",
      "Epoch   8 Batch   90/134 - Train Accuracy: 0.9816, Validation Accuracy: 0.9825, Loss: 0.0168\n",
      "Epoch   8 Batch  100/134 - Train Accuracy: 0.9808, Validation Accuracy: 0.9776, Loss: 0.0168\n",
      "Epoch   8 Batch  110/134 - Train Accuracy: 0.9780, Validation Accuracy: 0.9836, Loss: 0.0147\n",
      "Epoch   8 Batch  120/134 - Train Accuracy: 0.9822, Validation Accuracy: 0.9823, Loss: 0.0159\n",
      "Epoch   8 Batch  130/134 - Train Accuracy: 0.9805, Validation Accuracy: 0.9824, Loss: 0.0146\n",
      "Epoch   9 Batch   10/134 - Train Accuracy: 0.9791, Validation Accuracy: 0.9797, Loss: 0.0149\n",
      "Epoch   9 Batch   20/134 - Train Accuracy: 0.9829, Validation Accuracy: 0.9829, Loss: 0.0139\n",
      "Epoch   9 Batch   30/134 - Train Accuracy: 0.9838, Validation Accuracy: 0.9844, Loss: 0.0154\n",
      "Epoch   9 Batch   40/134 - Train Accuracy: 0.9880, Validation Accuracy: 0.9816, Loss: 0.0127\n",
      "Epoch   9 Batch   50/134 - Train Accuracy: 0.9820, Validation Accuracy: 0.9804, Loss: 0.0145\n",
      "Epoch   9 Batch   60/134 - Train Accuracy: 0.9800, Validation Accuracy: 0.9807, Loss: 0.0145\n",
      "Epoch   9 Batch   70/134 - Train Accuracy: 0.9851, Validation Accuracy: 0.9863, Loss: 0.0138\n",
      "Epoch   9 Batch   80/134 - Train Accuracy: 0.9869, Validation Accuracy: 0.9864, Loss: 0.0131\n",
      "Epoch   9 Batch   90/134 - Train Accuracy: 0.9827, Validation Accuracy: 0.9863, Loss: 0.0139\n",
      "Epoch   9 Batch  100/134 - Train Accuracy: 0.9878, Validation Accuracy: 0.9842, Loss: 0.0143\n",
      "Epoch   9 Batch  110/134 - Train Accuracy: 0.9861, Validation Accuracy: 0.9844, Loss: 0.0122\n",
      "Epoch   9 Batch  120/134 - Train Accuracy: 0.9879, Validation Accuracy: 0.9828, Loss: 0.0142\n",
      "Epoch   9 Batch  130/134 - Train Accuracy: 0.9832, Validation Accuracy: 0.9823, Loss: 0.0139\n",
      "Model Trained and Saved\n"
     ]
    }
   ],
   "source": [
    "\"\"\"\n",
    "DON'T MODIFY ANYTHING IN THIS CELL\n",
    "\"\"\"\n",
    "def get_accuracy(target, logits):\n",
    "    \"\"\"\n",
    "    Calculate accuracy\n",
    "    \"\"\"\n",
    "    max_seq = max(target.shape[1], logits.shape[1])\n",
    "    if max_seq - target.shape[1]:\n",
    "        target = np.pad(\n",
    "            target,\n",
    "            [(0,0),(0,max_seq - target.shape[1])],\n",
    "            'constant')\n",
    "    if max_seq - logits.shape[1]:\n",
    "        logits = np.pad(\n",
    "            logits,\n",
    "            [(0,0),(0,max_seq - logits.shape[1])],\n",
    "            'constant')\n",
    "\n",
    "    return np.mean(np.equal(target, logits))\n",
    "\n",
    "# Split data to training and validation sets\n",
    "train_source = source_int_text[batch_size:]\n",
    "train_target = target_int_text[batch_size:]\n",
    "valid_source = source_int_text[:batch_size]\n",
    "valid_target = target_int_text[:batch_size]\n",
    "(valid_sources_batch, valid_targets_batch, valid_sources_lengths, valid_targets_lengths ) = next(get_batches(valid_source,\n",
    "                                                                                                             valid_target,\n",
    "                                                                                                             batch_size,\n",
    "                                                                                                             source_vocab_to_int['<PAD>'],\n",
    "                                                                                                             target_vocab_to_int['<PAD>']))                                                                                                  \n",
    "with tf.Session(graph=train_graph) as sess:\n",
    "    sess.run(tf.global_variables_initializer())\n",
    "\n",
    "    for epoch_i in range(epochs):\n",
    "        for batch_i, (source_batch, target_batch, sources_lengths, targets_lengths) in enumerate(\n",
    "                get_batches(train_source, train_target, batch_size,\n",
    "                            source_vocab_to_int['<PAD>'],\n",
    "                            target_vocab_to_int['<PAD>'])):\n",
    "\n",
    "            _, loss = sess.run(\n",
    "                [train_op, cost],\n",
    "                {input_data: source_batch,\n",
    "                 targets: target_batch,\n",
    "                 lr: learning_rate,\n",
    "                 target_sequence_length: targets_lengths,\n",
    "                 source_sequence_length: sources_lengths,\n",
    "                 keep_prob: keep_probability})\n",
    "\n",
    "\n",
    "            if batch_i % display_step == 0 and batch_i > 0:\n",
    "\n",
    "\n",
    "                batch_train_logits = sess.run(\n",
    "                    inference_logits,\n",
    "                    {input_data: source_batch,\n",
    "                     source_sequence_length: sources_lengths,\n",
    "                     target_sequence_length: targets_lengths,\n",
    "                     keep_prob: 1.0})\n",
    "\n",
    "\n",
    "                batch_valid_logits = sess.run(\n",
    "                    inference_logits,\n",
    "                    {input_data: valid_sources_batch,\n",
    "                     source_sequence_length: valid_sources_lengths,\n",
    "                     target_sequence_length: valid_targets_lengths,\n",
    "                     keep_prob: 1.0})\n",
    "\n",
    "                train_acc = get_accuracy(target_batch, batch_train_logits)\n",
    "\n",
    "                valid_acc = get_accuracy(valid_targets_batch, batch_valid_logits)\n",
    "\n",
    "                print('Epoch {:>3} Batch {:>4}/{} - Train Accuracy: {:>6.4f}, Validation Accuracy: {:>6.4f}, Loss: {:>6.4f}'\n",
    "                      .format(epoch_i, batch_i, len(source_int_text) // batch_size, train_acc, valid_acc, loss))\n",
    "\n",
    "    # Save Model\n",
    "    saver = tf.train.Saver()\n",
    "    saver.save(sess, save_path)\n",
    "    print('Model Trained and Saved')"
   ]
  },
  {
   "cell_type": "markdown",
   "metadata": {},
   "source": [
    "### Save Parameters\n",
    "Save the `batch_size` and `save_path` parameters for inference."
   ]
  },
  {
   "cell_type": "code",
   "execution_count": 66,
   "metadata": {},
   "outputs": [],
   "source": [
    "\"\"\"\n",
    "DON'T MODIFY ANYTHING IN THIS CELL\n",
    "\"\"\"\n",
    "# Save parameters for checkpoint\n",
    "helper.save_params(save_path)"
   ]
  },
  {
   "cell_type": "markdown",
   "metadata": {},
   "source": [
    "# Checkpoint"
   ]
  },
  {
   "cell_type": "code",
   "execution_count": 67,
   "metadata": {},
   "outputs": [],
   "source": [
    "\"\"\"\n",
    "DON'T MODIFY ANYTHING IN THIS CELL\n",
    "\"\"\"\n",
    "import tensorflow as tf\n",
    "import numpy as np\n",
    "import helper\n",
    "import problem_unittests as tests\n",
    "\n",
    "_, (source_vocab_to_int, target_vocab_to_int), (source_int_to_vocab, target_int_to_vocab) = helper.load_preprocess()\n",
    "load_path = helper.load_params()"
   ]
  },
  {
   "cell_type": "markdown",
   "metadata": {},
   "source": [
    "## Sentence to Sequence\n",
    "To feed a sentence into the model for translation, you first need to preprocess it.  Implement the function `sentence_to_seq()` to preprocess new sentences.\n",
    "\n",
    "- Convert the sentence to lowercase\n",
    "- Convert words into ids using `vocab_to_int`\n",
    " - Convert words not in the vocabulary, to the `<UNK>` word id."
   ]
  },
  {
   "cell_type": "code",
   "execution_count": 68,
   "metadata": {},
   "outputs": [
    {
     "name": "stdout",
     "output_type": "stream",
     "text": [
      "Tests Passed\n"
     ]
    }
   ],
   "source": [
    "def sentence_to_seq(sentence, vocab_to_int):\n",
    "    \"\"\"\n",
    "    Convert a sentence to a sequence of ids\n",
    "    :param sentence: String\n",
    "    :param vocab_to_int: Dictionary to go from the words to an id\n",
    "    :return: List of word ids\n",
    "    \"\"\"\n",
    "    sentence = sentence.lower()\n",
    "    new_sentence = []\n",
    "    for word in sentence.split():\n",
    "        word_id = vocab_to_int[word] if word in vocab_to_int else vocab_to_int[UNK]\n",
    "        new_sentence.append(word_id)\n",
    "    return new_sentence\n",
    "\n",
    "\"\"\"\n",
    "DON'T MODIFY ANYTHING IN THIS CELL THAT IS BELOW THIS LINE\n",
    "\"\"\"\n",
    "tests.test_sentence_to_seq(sentence_to_seq)"
   ]
  },
  {
   "cell_type": "markdown",
   "metadata": {},
   "source": [
    "## Translate\n",
    "This will translate `translate_sentence` from English to French."
   ]
  },
  {
   "cell_type": "code",
   "execution_count": 69,
   "metadata": {},
   "outputs": [
    {
     "name": "stdout",
     "output_type": "stream",
     "text": [
      "INFO:tensorflow:Restoring parameters from checkpoints/dev\n"
     ]
    },
    {
     "name": "stderr",
     "output_type": "stream",
     "text": [
      "INFO:tensorflow:Restoring parameters from checkpoints/dev\n"
     ]
    },
    {
     "name": "stdout",
     "output_type": "stream",
     "text": [
      "Input\n",
      "  Word Ids:      [110, 220, 20, 133, 21, 166, 98]\n",
      "  English Words: ['he', 'saw', 'a', 'old', 'yellow', 'truck', '.']\n",
      "\n",
      "Prediction\n",
      "  Word Ids:      [102, 206, 336, 330, 19, 1]\n",
      "  French Words: il une un vieux camion <EOS>\n"
     ]
    }
   ],
   "source": [
    "translate_sentence = 'he saw a old yellow truck .'\n",
    "\n",
    "\n",
    "\"\"\"\n",
    "DON'T MODIFY ANYTHING IN THIS CELL\n",
    "\"\"\"\n",
    "translate_sentence = sentence_to_seq(translate_sentence, source_vocab_to_int)\n",
    "\n",
    "loaded_graph = tf.Graph()\n",
    "with tf.Session(graph=loaded_graph) as sess:\n",
    "    # Load saved model\n",
    "    loader = tf.train.import_meta_graph(load_path + '.meta')\n",
    "    loader.restore(sess, load_path)\n",
    "\n",
    "    input_data = loaded_graph.get_tensor_by_name('input:0')\n",
    "    logits = loaded_graph.get_tensor_by_name('predictions:0')\n",
    "    target_sequence_length = loaded_graph.get_tensor_by_name('target_sequence_length:0')\n",
    "    source_sequence_length = loaded_graph.get_tensor_by_name('source_sequence_length:0')\n",
    "    keep_prob = loaded_graph.get_tensor_by_name('keep_prob:0')\n",
    "\n",
    "    translate_logits = sess.run(logits, {input_data: [translate_sentence]*batch_size,\n",
    "                                         target_sequence_length: [len(translate_sentence)*2]*batch_size,\n",
    "                                         source_sequence_length: [len(translate_sentence)]*batch_size,\n",
    "                                         keep_prob: 1.0})[0]\n",
    "\n",
    "print('Input')\n",
    "print('  Word Ids:      {}'.format([i for i in translate_sentence]))\n",
    "print('  English Words: {}'.format([source_int_to_vocab[i] for i in translate_sentence]))\n",
    "\n",
    "print('\\nPrediction')\n",
    "print('  Word Ids:      {}'.format([i for i in translate_logits]))\n",
    "print('  French Words: {}'.format(\" \".join([target_int_to_vocab[i] for i in translate_logits])))\n"
   ]
  },
  {
   "cell_type": "markdown",
   "metadata": {},
   "source": [
    "## Imperfect Translation\n",
    "You might notice that some sentences translate better than others.  Since the dataset you're using only has a vocabulary of 227 English words of the thousands that you use, you're only going to see good results using these words.  For this project, you don't need a perfect translation. However, if you want to create a better translation model, you'll need better data.\n",
    "\n",
    "You can train on the [WMT10 French-English corpus](http://www.statmt.org/wmt10/training-giga-fren.tar).  This dataset has more vocabulary and richer in topics discussed.  However, this will take you days to train, so make sure you've a GPU and the neural network is performing well on dataset we provided.  Just make sure you play with the WMT10 corpus after you've submitted this project.\n",
    "## Submitting This Project\n",
    "When submitting this project, make sure to run all the cells before saving the notebook. Save the notebook file as \"dlnd_language_translation.ipynb\" and save it as a HTML file under \"File\" -> \"Download as\". Include the \"helper.py\" and \"problem_unittests.py\" files in your submission."
   ]
  }
 ],
 "metadata": {
  "anaconda-cloud": {},
  "kernelspec": {
   "display_name": "Python 3",
   "language": "python",
   "name": "python3"
  },
  "language_info": {
   "codemirror_mode": {
    "name": "ipython",
    "version": 3
   },
   "file_extension": ".py",
   "mimetype": "text/x-python",
   "name": "python",
   "nbconvert_exporter": "python",
   "pygments_lexer": "ipython3",
   "version": "3.5.2"
  },
  "varInspector": {
   "cols": {
    "lenName": 16,
    "lenType": 16,
    "lenVar": 40
   },
   "kernels_config": {
    "python": {
     "delete_cmd_postfix": "",
     "delete_cmd_prefix": "del ",
     "library": "var_list.py",
     "varRefreshCmd": "print(var_dic_list())"
    },
    "r": {
     "delete_cmd_postfix": ") ",
     "delete_cmd_prefix": "rm(",
     "library": "var_list.r",
     "varRefreshCmd": "cat(var_dic_list()) "
    }
   },
   "position": {
    "height": "382px",
    "left": "1230px",
    "right": "20px",
    "top": "120px",
    "width": "324px"
   },
   "types_to_exclude": [
    "module",
    "function",
    "builtin_function_or_method",
    "instance",
    "_Feature"
   ],
   "window_display": false
  }
 },
 "nbformat": 4,
 "nbformat_minor": 1
}
